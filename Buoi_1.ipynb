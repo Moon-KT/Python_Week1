{
  "nbformat": 4,
  "nbformat_minor": 0,
  "metadata": {
    "colab": {
      "provenance": []
    },
    "kernelspec": {
      "name": "python3",
      "display_name": "Python 3"
    },
    "language_info": {
      "name": "python"
    }
  },
  "cells": [
    {
      "cell_type": "code",
      "execution_count": null,
      "metadata": {
        "id": "drAfjSxU-19J"
      },
      "outputs": [],
      "source": [
        "print(\"Homework Week 1\")"
      ]
    },
    {
      "cell_type": "markdown",
      "source": [
        "\n",
        "Trả lời các câu hỏi sau\n",
        "Câu 1: Python có thể làm được gì?\n",
        "- Ứng dụng của Python:\n",
        "      + Phát triển web, phần mềm và di động(Back-end, SE và kỹ sư DevOps...)\n",
        "\n",
        "      + Phân tích dữ liệu và học máy\n",
        "\n",
        "      + Game và đồ họa 3D\n",
        "\n",
        "      + Trí tuệ nhân tạo\n",
        "\n",
        "      + Tự động hoá và phát triển phần mềm\n",
        "\n",
        "Câu 2: Hãy so sánh đặc điểm của Python với ngôn ngữ C++\n",
        " - Giống nhau :\n",
        "    \n",
        "        Cả 2 đều là ngôn ngữ lập trình bậc cao.\n",
        " - Khác nhau :\n",
        "  + Tốc độ và hiệu suất:\n",
        "\n",
        "          C++: là một ngôn ngữ biên dịch, cho phép tối ưu hóa mã và điều khiển trực tiếp phần cứng\n",
        "          -> hiệu suất tốt hơn.\n",
        "\n",
        "          Python: là một ngôn ngữ thông dịch\n",
        "          -> chậm hơn C++ trong việc thực thi các nhiệm vụ nặng về tính toán. Tuy nhiên, phù hợp cho các ứng dụng tương tác và phát triển nhanh.\n",
        "  + Cú pháp:\n",
        "\n",
        "          C++: phức tạp và đòi hỏi quan tâm đến các khái niệm như con trỏ, quản lý bộ nhớ và kiểu dữ liệu tường minh.\n",
        "\n",
        "          Python: dễ đọc và dễ hiểu hơn, với sự tập trung vào độ ngắn gọn và đọc được của mã.\n",
        "  + Kiểu dữ liệu:\n",
        "\n",
        "          C++: ngôn ngữ tĩnh kiểu -> phải xác định kiểu dữ liệu của biến trước khi sử dụng nó.\n",
        "\n",
        "          Python: ngôn ngữ động kiểu -> kiểu dữ liệu của biến có thể thay đổi trong quá trình chạy.\n",
        "  + Thư viện và module:\n",
        "\n",
        "          C++: có một số thư viện mạnh mẽ, cần phải viết nhiều mã để sử dụng.\n",
        "\n",
        "          Python: nhiều thư viện và module sẵn.\n",
        "  + Ứng dụng:\n",
        "\n",
        "          C++: Thích hợp phát triển ứng dụng yêu cầu hiệu suất cao như trò chơi, phần mềm nhúng, và các hệ thống thời gian thực.\n",
        "\n",
        "          Python: Thích hợp cho phát triển ứng dụng web, khoa học dữ liệu, trí tuệ nhân tạo, và các ứng dụng nhanh chóng có thời gian phát triển ngắn hạn.\n",
        "\n",
        "Câu 3: Python là ngôn ngữ biên dịch hay thông dịch? Vì sao?\n",
        "  - Python là một ngôn ngữ thông dịch (interpreted language). Điều này có nghĩa rằng mã nguồn Python không được biên dịch thành mã máy trực tiếp mà được dịch từ mã nguồn thành mã trung gian được gọi là bytecode, sau đó được thực thi bởi trình thông dịch Python (Python interpreter).\n",
        "  - Vì biên dịch thành mã máy trực tiếp là để làm cho mã nguồn Python có thể chạy trên nhiều nền tảng khác nhau mà không cần biên dịch lại.\n",
        "\n",
        "Câu 5: Hãy tìm hiểu kiến thức những buổi tiếp theo\n",
        " - Cách khai báo biến\n",
        "  + Biến và biểu thức\n",
        "         Biến  là các ô nhớ được đặt tên, dùng để lưu trữ các giá trị sẽ sử dụng trong chương trình-> có thể tự suy ra kiểu của biến không cần phải xác định rõ ràng kiểu biến. Tùy theo kiểu của dữ liệu được gán vào biến mà tự xác định kiểu cho biến.\n",
        "   Ví dụ:\n",
        "\n",
        "\n"
      ],
      "metadata": {
        "id": "061EPxwV_Aaq"
      }
    },
    {
      "cell_type": "code",
      "source": [
        "website = \"huhu.com\""
      ],
      "metadata": {
        "id": "qAYs3YT8OVk9"
      },
      "execution_count": null,
      "outputs": []
    },
    {
      "cell_type": "markdown",
      "source": [
        "Khi đó, Python tự động biết rằng “apple.com” là một chuỗi và khai báo biến\n",
        "website là kiểu chuỗi ký tự.\n",
        "\n",
        "  + Gán giá trị cho biến:\n",
        "Trong Python, ta sử dụng toán tử gán ‘=’ để gán các giá trị cho biến.\n",
        "Khởi gán một giá trị cho nhiều biến: Ta có thể khởi gán liên tiếp cùng một giá\n",
        "trị cho nhiều biến bằng cách viết như trong ví dụ sau (biến x, y, z được gán cùng\n",
        "một giá trị ‘Huhu’):\n"
      ],
      "metadata": {
        "id": "UCyJDUpgOvSu"
      }
    },
    {
      "cell_type": "code",
      "source": [
        "x = y = z = 'Huhu'"
      ],
      "metadata": {
        "id": "lze8vSRzPKzI"
      },
      "execution_count": null,
      "outputs": []
    },
    {
      "cell_type": "markdown",
      "source": [
        "  + Khởi gán nhiều giá trị cho nhiều biến: ta có cách viết nhanh như sau (biến x sẽ được khởi gán là 1, biến y được gán\n",
        "giá trị là 2.5, biến z được gán giá trị là ‘Huhu’):\n"
      ],
      "metadata": {
        "id": "TuaeBJ2XPiuN"
      }
    },
    {
      "cell_type": "code",
      "source": [
        "x, y, z = 1, 2.5, 'Huhu'"
      ],
      "metadata": {
        "id": "szUAfuYcQEX3"
      },
      "execution_count": null,
      "outputs": []
    },
    {
      "cell_type": "markdown",
      "source": [
        " => Note: Trong Python, chúng ta không thực sự gán giá trị cho các biến. Thay\n",
        "vào đó, Python cung cấp tham chiếu của đối tượng (giá trị) cho biến.\n",
        "  + Hằng trong Python: biến có giá trị không thể thay đổi.\n",
        "  + Gán giá trị cho hằng: Trong Python, hằng thường được khai báo và gán giá\n",
        "trị cùng lúc, trong một mô-đun. Ở đây, mô-đun là một tệp mới riêng biệt được sử\n",
        "dụng trong tệp chính. Bên trong mô-đun, các hằng được định nghĩa với tên hằng\n",
        "được viết hoa toàn bộ.\n",
        "\n",
        "    Ví dụ: trong tệp constants.py, ta khai báo:\n"
      ],
      "metadata": {
        "id": "FbSEpLQ_QLgb"
      }
    },
    {
      "cell_type": "code",
      "source": [
        "PI = 3.14\n",
        "GRAVITY = 9.8"
      ],
      "metadata": {
        "id": "wgml9dsdREb-"
      },
      "execution_count": null,
      "outputs": []
    },
    {
      "cell_type": "markdown",
      "source": [
        "Khi đó, trong tệp chính main.py, ta có thể sử dụng các hằng này:"
      ],
      "metadata": {
        "id": "6dkENPMeRZG5"
      }
    },
    {
      "cell_type": "code",
      "source": [
        "import constant\n",
        "print(constant.PI)\n",
        "print(constant.GRAVITY)"
      ],
      "metadata": {
        "id": "8QU1wnzURgMk"
      },
      "execution_count": null,
      "outputs": []
    },
    {
      "cell_type": "markdown",
      "source": [
        "  - Kiểu dữ liệu của biến: Các kiểu dữ liệu là các lớp và các biến là thể hiện (đối tượng) của các lớp này. Một số loại quan trọng:\n",
        "    + Kiểu số: int, float, complex (nguyên, thực, phức)\n",
        "    + Kiểu có cấu trúc (cấu trúc dữ liệu): list, tuple, set, dictionary, string.\n",
        "  Lấy kiểu dữ liệu của một biến:\n",
        "          type(<Tên_biến>)\n",
        "Ví dụ:"
      ],
      "metadata": {
        "id": "5heNqlXLRjhO"
      }
    },
    {
      "cell_type": "code",
      "source": [
        "a = 10\n",
        "print(type(a))"
      ],
      "metadata": {
        "id": "r0-saQR8SQSs"
      },
      "execution_count": null,
      "outputs": []
    },
    {
      "cell_type": "markdown",
      "source": [
        "Kết quả ta thu được:\n",
        "\n",
        "    < class 'int'>\n",
        "  + Chuyển đổi giữa các kiểu: Chúng ta có thể chuyển đổi giữa các kiểu dữ liệu khác nhau bằng cách sử dụng các hàm chuyển đổi kiểu khác nhau như: int (), float (), str (), v.v.\n",
        "Ví dụ:\n"
      ],
      "metadata": {
        "id": "r37KV9iJSUR0"
      }
    },
    {
      "cell_type": "code",
      "source": [
        "a = 10\n",
        "print(type(a))\n",
        "b = float(a)\n",
        "print(type(b))"
      ],
      "metadata": {
        "id": "AYooV_zrTctJ"
      },
      "execution_count": null,
      "outputs": []
    },
    {
      "cell_type": "markdown",
      "source": [
        "Kết quả:\n",
        "\n",
        "    <class 'int'>\n",
        "    <class 'float>"
      ],
      "metadata": {
        "id": "kGTfNbfLTfef"
      }
    },
    {
      "cell_type": "markdown",
      "source": [
        "  - Biểu thức:\n",
        "\n",
        "Để tính toán một đại lượng, ta sử dụng các biểu thức. Biểu thức trong Python\n",
        "cũng bao gồm hai thành phần là: Các toán tử và các toán hạng.\n",
        "\n",
        "  + Một số toán tử:\n",
        "\n",
        "        Arithmetic operators (toán tử số học): +, -, *, /, %, **, //\n",
        "\n",
        "        Assignment operators (toán tử gán): =, +=, -=, *=,....\n",
        "\n",
        "        Comparison operators (toán tử so sánh): ==, !=, >, <, >=, <=\n",
        "\n",
        "        Logical operators (toán tử logic): and, or, not\n",
        "\n",
        "  + Toán hạng:\n",
        "\n",
        "        Hằng: Gồm nhiều loại như hằng số, hằng chuỗi ký tự.\n",
        "\n",
        "        Biến: Ta có thể sử dụng các biến trong biểu thức, giá trị của biến sẽ được sử dụng để tính toán giá trị của biểu thức.\n",
        "\n",
        "  + Hàm:\n",
        "        Các hàm trả về một giá trị cũng có thể được dùng tương tự một biến trong biểu thức.\n",
        "\n",
        "Ví dụ:"
      ],
      "metadata": {
        "id": "Cf9YP5ecTvlW"
      }
    },
    {
      "cell_type": "code",
      "source": [
        "import math\n",
        "a = 10\n",
        "print(a + 2*math.sqrt(a))"
      ],
      "metadata": {
        "id": "rShqlz0sUY3B"
      },
      "execution_count": null,
      "outputs": []
    },
    {
      "cell_type": "markdown",
      "source": [
        "Kết quả:\n",
        "      \n",
        "      16.32\n",
        "      "
      ],
      "metadata": {
        "id": "PwZWTcoHUbP7"
      }
    }
  ]
}